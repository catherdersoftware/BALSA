{
 "cells": [
  {
   "cell_type": "markdown",
   "metadata": {},
   "source": [
    "### This notebook shows example of RAG using langchain, openai api, and chromadb\n",
    "\n",
    "For this example there are two test file in docs/test, with examples how to print and define function using made up prog lang SimpleLang, to test the RAG.\n",
    "\n",
    "* For running in codespaces I've had to install these:\n",
    "    ```bash\n",
    "    sudo apt-get update\n",
    "    sudo apt-get install -y libgl1-mesa-dev libglib2.0-0\n",
    "    ```\n",
    "\n",
    "* Then install pip packages:\n",
    "\n",
    "    ```bash\n",
    "    pip install -U langchain openai chromadb langchainhub python-dotenv  pysqlite3-binary unstructured[all-docs] tiktoken\n",
    "    ```\n",
    "\n",
    "* And prepend this to file \n",
    "\n",
    "    ```\n",
    "    /workspaces/BALSA/.venv/lib/python3.10/site-packages/chromadb/__init__.py\n",
    "\n",
    "    ```\n",
    "\n",
    "    ```python\n",
    "    __import__('pysqlite3')\n",
    "    import sys\n",
    "    sys.modules['sqlite3'] = sys.modules.pop('pysqlite3')\n",
    "    ```"
   ]
  },
  {
   "cell_type": "code",
   "execution_count": 1,
   "metadata": {},
   "outputs": [
    {
     "data": {
      "text/plain": [
       "True"
      ]
     },
     "execution_count": 1,
     "metadata": {},
     "output_type": "execute_result"
    }
   ],
   "source": [
    "from dotenv import load_dotenv\n",
    "import os \n",
    "# Get the current working directory and load .env\n",
    "cwd = os.getcwd()\n",
    "env_path = os.path.join(cwd, '.env')\n",
    "load_dotenv(dotenv_path=env_path)"
   ]
  },
  {
   "cell_type": "code",
   "execution_count": 2,
   "metadata": {},
   "outputs": [
    {
     "name": "stderr",
     "output_type": "stream",
     "text": [
      "/workspaces/BALSA/.venv/lib/python3.10/site-packages/tqdm/auto.py:21: TqdmWarning: IProgress not found. Please update jupyter and ipywidgets. See https://ipywidgets.readthedocs.io/en/stable/user_install.html\n",
      "  from .autonotebook import tqdm as notebook_tqdm\n"
     ]
    },
    {
     "name": "stdout",
     "output_type": "stream",
     "text": [
      "docs [Document(page_content='Examples in SimpleLang:\\n\\nWriting a Function.\\n\\nTo write a simple function that adds two numbers:\\n\\nf addNumbers(a, b) { result = a + b p(result) }\\n\\nIn this example, f addNumbers(a, b) { ... } defines a new function named addNumbers with two parameters a and b. Inside the function, result is calculated as the sum of a and b, and then it is printed using p(result). The curly braces {} enclose the function body.', metadata={'source': '/workspaces/BALSA/data/rags/func.txt'}), Document(page_content='Examples in SimpleLang:\\n\\nPrinting \"Hello, World!\"\\n\\np(\"Hello, World!\")\\n\\nThis line will output \"Hello, World!\" to the console. The p() function is a built-in function in SimpleLang for printing.', metadata={'source': '/workspaces/BALSA/data/rags/print.md'})]\n",
      "files in path: 2 \n"
     ]
    }
   ],
   "source": [
    "from langchain import hub\n",
    "from langchain.chat_models import ChatOpenAI\n",
    "from langchain.document_loaders import DirectoryLoader\n",
    "from langchain.embeddings import OpenAIEmbeddings\n",
    "from langchain.schema import StrOutputParser\n",
    "from langchain.schema.runnable import RunnablePassthrough\n",
    "from langchain.text_splitter import RecursiveCharacterTextSplitter\n",
    "from langchain.vectorstores import Chroma\n",
    "\n",
    "# directory path\n",
    "directory = '/workspaces/BALSA/data/rags'\n",
    "\n",
    "loader = DirectoryLoader(directory)\n",
    "docs = loader.load()\n",
    "print(\"docs\",docs)\n",
    "print(f\"files in path: {len(docs)} \")"
   ]
  },
  {
   "cell_type": "code",
   "execution_count": 3,
   "metadata": {},
   "outputs": [],
   "source": [
    "text_splitter = RecursiveCharacterTextSplitter(chunk_size=1000, chunk_overlap=200)\n",
    "splits = text_splitter.split_documents(docs)\n",
    "\n",
    "vectorstore = Chroma.from_documents(documents=splits, embedding=OpenAIEmbeddings(), persist_directory=\"./chroma_db\")\n",
    "retriever = vectorstore.as_retriever()\n",
    "\n",
    "prompt = hub.pull(\"rlm/rag-prompt\")\n",
    "llm = ChatOpenAI(model_name=\"gpt-3.5-turbo\", temperature=0)\n",
    "\n",
    "def format_docs(docs):\n",
    "    return \"\\n\\n\".join(doc.page_content for doc in docs)\n",
    "\n",
    "rag_chain = (\n",
    "    {\"context\": retriever | format_docs, \"question\": RunnablePassthrough()}\n",
    "    | prompt\n",
    "    | llm\n",
    "    | StrOutputParser()\n",
    ")"
   ]
  },
  {
   "cell_type": "code",
   "execution_count": 4,
   "metadata": {},
   "outputs": [
    {
     "name": "stderr",
     "output_type": "stream",
     "text": [
      "Number of requested results 4 is greater than number of elements in index 2, updating n_results = 2\n"
     ]
    },
    {
     "data": {
      "text/plain": [
       "'To print \"Hello, World!\" using SimpleLang, you can use the p() function and pass \"Hello, World!\" as an argument. The code would be: p(\"Hello, World!\").'"
      ]
     },
     "execution_count": 4,
     "metadata": {},
     "output_type": "execute_result"
    }
   ],
   "source": [
    "rag_chain.invoke(\"How to print hello world using SimpleLang?\")"
   ]
  },
  {
   "cell_type": "code",
   "execution_count": 5,
   "metadata": {},
   "outputs": [
    {
     "name": "stderr",
     "output_type": "stream",
     "text": [
      "Number of requested results 4 is greater than number of elements in index 2, updating n_results = 2\n"
     ]
    },
    {
     "data": {
      "text/plain": [
       "\"To write a simple function in SimpleLang that calculates and prints the number to the power of 2, you can define a function with a parameter for the number and use the ** operator to calculate the power. Then, use the p() function to print the result. Here's an example:\\n\\nf powerOfTwo(num) {\\n  result = num ** 2\\n  p(result)\\n}\""
      ]
     },
     "execution_count": 5,
     "metadata": {},
     "output_type": "execute_result"
    }
   ],
   "source": [
    "rag_chain.invoke(\"How to write a simple function that will calculate and print the number to the power of 2 using SimpleLang?. show example.\")"
   ]
  },
  {
   "cell_type": "code",
   "execution_count": null,
   "metadata": {},
   "outputs": [],
   "source": []
  },
  {
   "cell_type": "code",
   "execution_count": null,
   "metadata": {},
   "outputs": [],
   "source": []
  }
 ],
 "metadata": {
  "kernelspec": {
   "display_name": "Python 3",
   "language": "python",
   "name": "python3"
  },
  "language_info": {
   "codemirror_mode": {
    "name": "ipython",
    "version": 3
   },
   "file_extension": ".py",
   "mimetype": "text/x-python",
   "name": "python",
   "nbconvert_exporter": "python",
   "pygments_lexer": "ipython3",
   "version": "3.10.8"
  }
 },
 "nbformat": 4,
 "nbformat_minor": 2
}
